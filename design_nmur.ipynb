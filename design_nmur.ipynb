{
 "cells": [
  {
   "cell_type": "code",
   "execution_count": null,
   "id": "6b552214",
   "metadata": {},
   "outputs": [],
   "source": [
    "import json\n",
    "import numpy as np"
   ]
  },
  {
   "cell_type": "code",
   "execution_count": null,
   "id": "14e1b504",
   "metadata": {},
   "outputs": [],
   "source": [
    "data1 = json.load(open('./res/amei24.json'))\n",
    "data2 = json.load(open('./res/amei25.json'))\n",
    "data = data1 + data2\n",
    "alpha = 0.9"
   ]
  },
  {
   "cell_type": "code",
   "execution_count": null,
   "id": "b9058011",
   "metadata": {},
   "outputs": [],
   "source": [
    "def cal_momentum_uncertainty(data, alpha=0.9):\n",
    "    \"\"\"\n",
    "    Calculate the momentum uncertainty for each step in the data.\n",
    "    \"\"\"\n",
    "    uncertainties = []\n",
    "    for step in data:\n",
    "        if 'momentum' in step:\n",
    "            momentum = step['momentum']\n",
    "            uncertainty = np.std(momentum) * alpha\n",
    "            uncertainties.append(uncertainty)\n",
    "    return uncertainties"
   ]
  },
  {
   "cell_type": "code",
   "execution_count": null,
   "id": "fc7b51d7",
   "metadata": {},
   "outputs": [],
   "source": [
    "all_step_uncertainties = []\n",
    "all_step_norm_uncertainties = []\n",
    "for sample in data:\n",
    "    step_uncertainty = sample['step_uncertainty']\n",
    "    step_momentum_uncertainty = []\n",
    "    step_mu=0\n",
    "    for i in range(len(step_uncertainty)):\n",
    "        mean=np.mean(step_uncertainty[:i+1])\n",
    "        std = np.std(step_uncertainty[:i+1])\n",
    "        step_u = (step_uncertainty[i] - mean) / std if std != 0 else 0\n",
    "        all_step_norm_uncertainties.append(step_u)\n",
    "        step_momentum_uncertainty.append(alpha * )\n"
   ]
  }
 ],
 "metadata": {
  "language_info": {
   "name": "python"
  }
 },
 "nbformat": 4,
 "nbformat_minor": 5
}
